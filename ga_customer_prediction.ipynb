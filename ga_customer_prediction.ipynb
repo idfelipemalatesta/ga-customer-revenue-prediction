{
 "cells": [
  {
   "cell_type": "markdown",
   "id": "17300b0b-38ca-4312-b0e2-ffbfdc2329e3",
   "metadata": {},
   "source": [
    "## 1. Data Preparation"
   ]
  },
  {
   "cell_type": "markdown",
   "id": "b86c1794-84ba-471e-8f1e-5c86ca69d23a",
   "metadata": {},
   "source": [
    "### 1.1 Import libraries"
   ]
  },
  {
   "cell_type": "code",
   "execution_count": 1,
   "id": "2a574e98-10dd-445d-9ce9-260b9a46e295",
   "metadata": {
    "tags": []
   },
   "outputs": [],
   "source": [
    "# Data Manipulation\n",
    "import numpy as np\n",
    "import pandas as pd\n",
    "from pandas import json_normalize\n",
    "from scipy.stats import kurtosis, skew\n",
    "import os\n",
    "import json\n",
    "pd.set_option('display.max_columns', 100)\n",
    "\n",
    "# Data Visualization\n",
    "import matplotlib.pyplot as plt\n",
    "import seaborn as sns\n",
    "%matplotlib inline\n",
    "\n",
    "# Machine Learning\n",
    "from sklearn.metrics import mean_squared_error\n",
    "from sklearn.model_selection import KFold\n",
    "import lightgbm as lgb\n",
    "from skopt import dummy_minimize\n",
    "\n",
    "import warnings\n",
    "warnings.filterwarnings('ignore')"
   ]
  },
  {
   "cell_type": "markdown",
   "id": "b302ba53-cda2-43d5-b522-2eae28c758a8",
   "metadata": {},
   "source": [
    "### 1.2 Loading the dataset"
   ]
  },
  {
   "cell_type": "code",
   "execution_count": 2,
   "id": "610e26a5-dfd3-43cc-b541-218648a7e5c4",
   "metadata": {
    "tags": []
   },
   "outputs": [],
   "source": [
    "def load_df(csv_path, skiprows=None, nrows=None):\n",
    "    json_cols = ['device', 'geoNetwork', 'totals', 'trafficSource']\n",
    "    df = pd.read_csv(csv_path,\n",
    "                     #converters are dict of functions for converting values in certain columns. Keys can either be integers or column labels.\n",
    "                     #json.loads() method can be used to parse a valid JSON string and convert it into a Python Dictionary.\n",
    "                     #It is mainly used for deserializing native string, byte, or byte array which consists of JSON data into Python Dictionary.\n",
    "                     converters={col: json.loads for col in json_cols}, \n",
    "                     dtype={'fullVisitorId': 'str'}, # Important!!\n",
    "                     nrows=nrows)\n",
    "    \n",
    "    for col in json_cols:\n",
    "        column_as_df = json_normalize(df[col])\n",
    "        column_as_df.columns = [f\"{col}.{subcolumn}\" for subcolumn in column_as_df.columns]\n",
    "        df = df.drop(col, axis=1).merge(column_as_df, right_index=True, left_index=True)\n",
    "    return df"
   ]
  },
  {
   "cell_type": "code",
   "execution_count": 3,
   "id": "ad0be059-dd2d-41bf-bb77-dd9bf78133fe",
   "metadata": {
    "tags": []
   },
   "outputs": [],
   "source": [
    "csv_train_path = 'train_v2.csv'\n",
    "csv_test_path = 'test_v2.csv'"
   ]
  },
  {
   "cell_type": "code",
   "execution_count": 4,
   "id": "015e1b2c-d9cc-4964-a0de-b11d17689c9f",
   "metadata": {
    "tags": []
   },
   "outputs": [
    {
     "name": "stdout",
     "output_type": "stream",
     "text": [
      "CPU times: total: 1min 21s\n",
      "Wall time: 1min 48s\n"
     ]
    },
    {
     "data": {
      "text/plain": [
       "((164709, 33), (401589, 57))"
      ]
     },
     "execution_count": 4,
     "metadata": {},
     "output_type": "execute_result"
    }
   ],
   "source": [
    "%%time\n",
    "df_test = load_df(csv_test_path)\n",
    "df_train = pd.read_csv('df_train_2018.csv')\n",
    "\n",
    "id_test = df_test['fullVisitorId']\n",
    "del df_test['fullVisitorId'], df_test['totals.transactionRevenue']\n",
    "\n",
    "df_train.shape, df_test.shape"
   ]
  },
  {
   "cell_type": "markdown",
   "id": "42522364-372c-4f92-b9b8-3c0df06230f3",
   "metadata": {},
   "source": [
    "## 2. Data Analysis/Cleaning"
   ]
  },
  {
   "cell_type": "markdown",
   "id": "96a059ea-5b9b-4761-bd8e-5562f698fbb6",
   "metadata": {},
   "source": [
    "### 2.1 Constant Variables"
   ]
  },
  {
   "cell_type": "code",
   "execution_count": 5,
   "id": "6011447f-a28a-4c61-b542-411e404e2941",
   "metadata": {
    "tags": []
   },
   "outputs": [
    {
     "name": "stdout",
     "output_type": "stream",
     "text": [
      "==== df_train =====\n",
      "Detect 1 variables.\n",
      "==== df_test ======\n",
      "Detect 23 variables.\n"
     ]
    }
   ],
   "source": [
    "c = 0\n",
    "train_const, test_const = [],[]\n",
    "print('==== df_train =====')\n",
    "for col in df_train.copy():\n",
    "    if df_train[col].nunique() == 1:\n",
    "        train_const.append(col)\n",
    "        c += 1      \n",
    "print(f'Detect {c} variables.')\n",
    "c = 0\n",
    "print('==== df_test ======')\n",
    "for col in df_test.copy():\n",
    "    if df_test[col].nunique() == 1:\n",
    "        test_const.append(col)\n",
    "        c += 1       \n",
    "print(f'Detect {c} variables.')"
   ]
  },
  {
   "cell_type": "code",
   "execution_count": 6,
   "id": "1e0114da-0af4-4830-a906-c03d9a09a1c2",
   "metadata": {
    "tags": []
   },
   "outputs": [],
   "source": [
    "df_train.drop(train_const, axis=1, inplace=True)\n",
    "df_test.drop(test_const, axis=1, inplace=True)"
   ]
  },
  {
   "cell_type": "markdown",
   "id": "ee180f64-ee6b-43eb-905f-8d512500bf97",
   "metadata": {
    "tags": []
   },
   "source": [
    "### 2.2 Missing Data"
   ]
  },
  {
   "cell_type": "code",
   "execution_count": null,
   "id": "d20202e0-569e-49e1-b9df-2fda70dc669c",
   "metadata": {},
   "outputs": [],
   "source": [
    "# Impute data on Train\n",
    "for col in ['trafficSource.adwordsClickInfo.gclId',\n",
    "            'trafficSource.adwordsClickInfo.adNetworkType','trafficSource.adwordsClickInfo.page',\n",
    "            'trafficSource.adwordsClickInfo.slot']:\n",
    "    df_train[col].fillna('unknown', inplace=True)\n",
    "\n",
    "df_train['totals.transactionRevenue'].fillna(0, inplace=True)\n",
    "df_train['totals.pageviews'].fillna(1, inplace=True)\n",
    "df_train['totals.sessionQualityDim'].fillna(df_train['totals.sessionQualityDim'].mode()[0], inplace=True)\n",
    "df_train['trafficSource.keyword'].fillna('(not set)', inplace=True)\n",
    "df_train['trafficSource.referralPath'].fillna('(not set)', inplace=True)\n",
    "df_train['trafficSource.adContent'].fillna('(not set)', inplace=True)\n",
    "df_train.drop(['totals.timeOnSite', 'totals.totalTransactionRevenue','totals.transactions'], axis=1, inplace=True)"
   ]
  },
  {
   "cell_type": "code",
   "execution_count": 8,
   "id": "78923480-9647-487a-abc9-03c05a29ab96",
   "metadata": {
    "tags": []
   },
   "outputs": [],
   "source": [
    "# Impute data on Test\n",
    "for col in ['trafficSource.referralPath', 'trafficSource.adwordsClickInfo.gclId',\n",
    "            'trafficSource.adwordsClickInfo.adNetworkType','trafficSource.adwordsClickInfo.page',\n",
    "            'trafficSource.adwordsClickInfo.slot', 'trafficSource.adContent']:\n",
    "    df_test[col].fillna('unknown', inplace=True)\n",
    "\n",
    "df_test['totals.pageviews'].fillna(1, inplace=True)\n",
    "df_test['trafficSource.keyword'].fillna('(not set)', inplace=True)\n",
    "df_test['trafficSource.referralPath'].fillna('\"(not set)\"', inplace=True)\n",
    "df_test['trafficSource.adContent'].fillna('\"(not set)\"', inplace=True)\n",
    "df_test.drop(['totals.timeOnSite','totals.totalTransactionRevenue','totals.transactions'], axis=1, inplace=True)"
   ]
  },
  {
   "cell_type": "markdown",
   "id": "f3f796b3-ac81-4f0d-ab32-b5323ef2c1c7",
   "metadata": {},
   "source": [
    "### 2.3 Target Variable"
   ]
  },
  {
   "cell_type": "code",
   "execution_count": 11,
   "id": "410d9de7-589a-4ab7-858b-f40d577c2314",
   "metadata": {
    "tags": []
   },
   "outputs": [
    {
     "name": "stdout",
     "output_type": "stream",
     "text": [
      "Skewness of normal distribution (should be 0): 0.2027167318961024\n"
     ]
    }
   ],
   "source": [
    "df_train['totals.transactionRevenue'] = df_train['totals.transactionRevenue'].astype('float')\n",
    "df_train[\"totals.transactionRevenue\"] = np.log1p(df_train[\"totals.transactionRevenue\"])\n",
    "print(f'Skewness after log transform: {skew((df_train[df_train['totals.transactionRevenue'] > 0][\"totals.transactionRevenue\"]))}')"
   ]
  },
  {
   "cell_type": "markdown",
   "id": "24bf4547-fed6-4ab7-9620-fe8c299900a9",
   "metadata": {},
   "source": [
    "- **Skewness** seems symmetrical."
   ]
  },
  {
   "cell_type": "markdown",
   "id": "1b0c9dff-2d57-4a96-93c6-9352b7df3c17",
   "metadata": {},
   "source": [
    "## 3. Feature Engineering"
   ]
  },
  {
   "cell_type": "markdown",
   "id": "24ca7cba-4ae7-475c-af58-510212663349",
   "metadata": {},
   "source": [
    "### 3.1 Removing some variables "
   ]
  },
  {
   "cell_type": "code",
   "execution_count": 13,
   "id": "fa9c05ec-0044-4469-ae27-b7efb79baa60",
   "metadata": {
    "tags": []
   },
   "outputs": [],
   "source": [
    "df_train.drop(['fullVisitorId', 'date2', '_hour'], axis=1, inplace=True)\n",
    "df_test.drop(['date', 'visitId', 'visitStartTime', 'date2'], axis=1, inplace=True)"
   ]
  },
  {
   "cell_type": "markdown",
   "id": "6c07cbff-8dde-4f7b-9dff-1143eb8afae4",
   "metadata": {},
   "source": [
    "### 3.2 Changing data types"
   ]
  },
  {
   "cell_type": "code",
   "execution_count": 16,
   "id": "4a4aff43-abac-4820-8baa-26e94b2a79e7",
   "metadata": {
    "tags": []
   },
   "outputs": [],
   "source": [
    "int_cols = ['visitNumber', 'totals.hits','totals.pageviews','totals.sessionQualityDim']\n",
    "\n",
    "for col in int_cols:\n",
    "    df_test[col] = df_test[col].astype('int64')"
   ]
  },
  {
   "cell_type": "markdown",
   "id": "461e8cdb-ddc2-4a98-98ce-0fa70e396677",
   "metadata": {},
   "source": [
    "### 3.3 Log Transformation"
   ]
  },
  {
   "cell_type": "code",
   "execution_count": 20,
   "id": "55db4316-dd08-42d9-9f52-342649c57080",
   "metadata": {
    "tags": []
   },
   "outputs": [
    {
     "name": "stdout",
     "output_type": "stream",
     "text": [
      "Train: \n",
      "Skew visitNumber: 3.585578780803558\n",
      "Skew totals.hits: 1.3275912482231458\n",
      "Skew totals.pageviews: 1.3205392429525427\n",
      "Skew totals.sessionQualityDim: 3.0658113898708317\n",
      "\n",
      "Test: \n",
      "Skew visitNumber: 3.362601510353562\n",
      "Skew totals.hits: 1.1526050188091876\n",
      "Skew totals.pageviews: 1.1584673197471451\n",
      "Skew totals.sessionQualityDim: 2.5804308835986927\n"
     ]
    }
   ],
   "source": [
    "print('Train: ')\n",
    "for col in [x for x in df_train.select_dtypes(include=['float', 'int']) if (x != 'totals.transactionRevenue')]:\n",
    "    print(f'Skew {col}: {skew(df_train[col])}')\n",
    "print()\n",
    "print('Test: ')\n",
    "for col in df_test.select_dtypes(include=['float', 'int']):\n",
    "    print(f'Skew {col}: {skew(df_test[col])}')"
   ]
  },
  {
   "cell_type": "code",
   "execution_count": 19,
   "id": "2b20002d-45d2-40dc-9cc4-8055b5465af0",
   "metadata": {
    "tags": []
   },
   "outputs": [],
   "source": [
    "for df in [df_train, df_test]:\n",
    "    df['visitNumber'] = np.log1p(df['visitNumber'])\n",
    "    df['totals.hits'] = np.log1p(df['totals.hits'])\n",
    "    df['totals.pageviews'] = np.log1p(df['totals.pageviews'])\n",
    "    df['totals.sessionQualityDim'] = np.log1p(df['totals.sessionQualityDim'])"
   ]
  },
  {
   "cell_type": "markdown",
   "id": "3bf3ed79-ad32-4ee7-9082-88fc98dfe487",
   "metadata": {},
   "source": [
    "### 3.4 Label Encoder"
   ]
  },
  {
   "cell_type": "code",
   "execution_count": 21,
   "id": "7e53be6f-643c-40d6-9e95-8139aad3e9ae",
   "metadata": {
    "tags": []
   },
   "outputs": [
    {
     "name": "stdout",
     "output_type": "stream",
     "text": [
      "Columns that are converted to numerical values with label encodedr:\n",
      "channelGrouping\n",
      "customDimensions\n",
      "hits\n",
      "device.browser\n",
      "device.operatingSystem\n",
      "device.deviceCategory\n",
      "geoNetwork.continent\n",
      "geoNetwork.subContinent\n",
      "geoNetwork.country\n",
      "geoNetwork.region\n",
      "geoNetwork.metro\n",
      "geoNetwork.city\n",
      "geoNetwork.networkDomain\n",
      "trafficSource.campaign\n",
      "trafficSource.source\n",
      "trafficSource.medium\n",
      "trafficSource.keyword\n",
      "trafficSource.referralPath\n",
      "trafficSource.adContent\n",
      "trafficSource.adwordsClickInfo.page\n",
      "trafficSource.adwordsClickInfo.slot\n",
      "trafficSource.adwordsClickInfo.gclId\n",
      "trafficSource.adwordsClickInfo.adNetworkType\n"
     ]
    }
   ],
   "source": [
    "from sklearn.preprocessing import LabelEncoder\n",
    "\n",
    "le = LabelEncoder()\n",
    "print('Columns that are converted to numerical values with label encodedr:')\n",
    "for col in df_train.columns:\n",
    "    if df_train[col].dtype == 'O':\n",
    "        print(col)\n",
    "        #print(col, train[col].unique())\n",
    "        df_train.loc[:, col] = le.fit_transform(df_train.loc[:, col])\n",
    "        df_test.loc[:, col] = le.fit_transform(df_test.loc[:, col])"
   ]
  },
  {
   "cell_type": "markdown",
   "id": "c6b70f60-48fd-4e4d-b53e-8938e7f8d9ff",
   "metadata": {},
   "source": [
    "## 4. Model Training"
   ]
  },
  {
   "cell_type": "markdown",
   "id": "04372138-cf8c-4627-856a-d0bb6bab8b21",
   "metadata": {},
   "source": [
    "### 4.1 Split Data"
   ]
  },
  {
   "cell_type": "code",
   "execution_count": 22,
   "id": "45cc3df3-0f8f-432b-8d31-038b80a6a038",
   "metadata": {
    "tags": []
   },
   "outputs": [],
   "source": [
    "X = df_train.drop('totals.transactionRevenue', axis=1)\n",
    "y = df_train['totals.transactionRevenue']"
   ]
  },
  {
   "cell_type": "markdown",
   "id": "3b21b1e8-d24d-4e66-83ed-0a21e4d82e92",
   "metadata": {},
   "source": [
    "### 4.2 Cross Validation with LGBMRegressor"
   ]
  },
  {
   "cell_type": "code",
   "execution_count": 45,
   "id": "2b966aa6-2da5-46f4-a74d-c5d2eab614ec",
   "metadata": {
    "tags": []
   },
   "outputs": [
    {
     "name": "stdout",
     "output_type": "stream",
     "text": [
      "fold 0\n",
      "fold 1\n",
      "fold 2\n",
      "fold 3\n",
      "fold 4\n",
      "0.2126352966187431\n",
      "0.23055686562772473\n"
     ]
    }
   ],
   "source": [
    "num_folds = 5\n",
    "folds = KFold(n_splits= num_folds, shuffle=True, random_state=47)\n",
    "\n",
    "fold = 0\n",
    "accs_tr, accs_val = [], []\n",
    "\n",
    "for train_idx, valid_idx in folds.split(X, y):\n",
    "    train_x = X.iloc[train_idx]\n",
    "    train_y = y.iloc[train_idx]\n",
    "    \n",
    "    valid_x = X.iloc[valid_idx]\n",
    "    valid_y = y.iloc[valid_idx]\n",
    "    \n",
    "    # Fit Model on Train\n",
    "    \n",
    "    reg = lgb.LGBMRegressor(n_estimators=3000)\n",
    "    reg.fit(train_x, train_y, eval_set=[(valid_x, valid_y)], eval_metric=\"rmse\", early_stopping_rounds = 3000, verbose = 0)\n",
    "    \n",
    "    \n",
    "    # Train Acc    \n",
    "    y_pred_tr = reg.predict(train_x)\n",
    "    result = np.sqrt(mean_squared_error(train_y, y_pred_tr))\n",
    "    accs_tr.append(result)\n",
    "    \n",
    "    # Valid Acc\n",
    "    y_pred_val = reg.predict(valid_x)\n",
    "    result_val = np.sqrt(mean_squared_error(valid_y, y_pred_val))\n",
    "    accs_val.append(result_val)\n",
    "\n",
    "    \n",
    "    print(f'fold {fold}')\n",
    "    fold += 1\n",
    "\n",
    "print(np.mean(accs_tr))\n",
    "print(np.mean(accs_val))"
   ]
  },
  {
   "cell_type": "markdown",
   "id": "a2f638e4-a4f6-4133-ab91-12ca04863d83",
   "metadata": {},
   "source": [
    "### 4.3 Hyperparameter tuning (Random search - skopt)"
   ]
  },
  {
   "cell_type": "code",
   "execution_count": 48,
   "id": "9bcd5275-c1e5-42d3-af00-625794bc4dd4",
   "metadata": {
    "tags": []
   },
   "outputs": [
    {
     "name": "stdout",
     "output_type": "stream",
     "text": [
      "Iteration No: 1 started. Evaluating function at random point.\n",
      "[0.09871192514273254, 74, 10, 0.3372159440002478, 0.23208030173540176] \n",
      "\n",
      "Iteration No: 1 ended. Evaluation done at random point.\n",
      "Time taken: 16.4810\n",
      "Function value obtained: 0.2389\n",
      "Current minimum: 0.2389\n",
      "Iteration No: 2 started. Evaluating function at random point.\n",
      "[0.001529949829431263, 78, 72, 0.3782826906908954, 0.457090726807603] \n",
      "\n",
      "Iteration No: 2 ended. Evaluation done at random point.\n",
      "Time taken: 22.9250\n",
      "Function value obtained: 0.2389\n",
      "Current minimum: 0.2389\n",
      "Iteration No: 3 started. Evaluating function at random point.\n",
      "[0.01195730942971637, 128, 19, 0.5483207515942279, 0.49910760440160107] \n",
      "\n",
      "Iteration No: 3 ended. Evaluation done at random point.\n",
      "Time taken: 25.1310\n",
      "Function value obtained: 0.2389\n",
      "Current minimum: 0.2389\n",
      "Iteration No: 4 started. Evaluating function at random point.\n",
      "[0.0028784217488024557, 16, 51, 0.9182639233502714, 0.5114843271882895] \n",
      "\n",
      "Iteration No: 4 ended. Evaluation done at random point.\n",
      "Time taken: 12.4200\n",
      "Function value obtained: 0.2389\n",
      "Current minimum: 0.2389\n",
      "Iteration No: 5 started. Evaluating function at random point.\n",
      "[0.007267702383040958, 96, 97, 0.7894697745197069, 0.7443734643715278] \n",
      "\n",
      "Iteration No: 5 ended. Evaluation done at random point.\n",
      "Time taken: 20.3470\n",
      "Function value obtained: 0.2389\n",
      "Current minimum: 0.2389\n",
      "Iteration No: 6 started. Evaluating function at random point.\n",
      "[0.04031948793713315, 63, 23, 0.5422449214947946, 0.8785182267810852] \n",
      "\n",
      "Iteration No: 6 ended. Evaluation done at random point.\n",
      "Time taken: 12.9970\n",
      "Function value obtained: 0.2389\n",
      "Current minimum: 0.2389\n",
      "Iteration No: 7 started. Evaluating function at random point.\n",
      "[0.045529597892867466, 90, 14, 0.30939747550591, 0.15331888117140713] \n",
      "\n",
      "Iteration No: 7 ended. Evaluation done at random point.\n",
      "Time taken: 17.2280\n",
      "Function value obtained: 0.2389\n",
      "Current minimum: 0.2389\n",
      "Iteration No: 8 started. Evaluating function at random point.\n",
      "[0.021930881089764206, 73, 4, 0.6880713925510277, 0.47060909107214777] \n",
      "\n",
      "Iteration No: 8 ended. Evaluation done at random point.\n",
      "Time taken: 17.3920\n",
      "Function value obtained: 0.2389\n",
      "Current minimum: 0.2389\n",
      "Iteration No: 9 started. Evaluating function at random point.\n",
      "[0.002483715204721354, 26, 44, 0.7021758812975045, 0.8511631047076357] \n",
      "\n",
      "Iteration No: 9 ended. Evaluation done at random point.\n",
      "Time taken: 8.4270\n",
      "Function value obtained: 0.2389\n",
      "Current minimum: 0.2389\n",
      "Iteration No: 10 started. Evaluating function at random point.\n",
      "[0.0010878688833867167, 43, 83, 0.98941803446117, 0.7733490889418555] \n",
      "\n",
      "Iteration No: 10 ended. Evaluation done at random point.\n",
      "Time taken: 10.8740\n",
      "Function value obtained: 0.2389\n",
      "Current minimum: 0.2389\n",
      "Iteration No: 11 started. Evaluating function at random point.\n",
      "[0.003638211850540798, 89, 8, 0.14806470624875995, 0.5031041735583147] \n",
      "\n",
      "Iteration No: 11 ended. Evaluation done at random point.\n",
      "Time taken: 16.7920\n",
      "Function value obtained: 0.2389\n",
      "Current minimum: 0.2389\n",
      "Iteration No: 12 started. Evaluating function at random point.\n",
      "[0.06564339077069616, 105, 24, 0.163515944581681, 0.572319439183401] \n",
      "\n",
      "Iteration No: 12 ended. Evaluation done at random point.\n",
      "Time taken: 21.9850\n",
      "Function value obtained: 0.2389\n",
      "Current minimum: 0.2389\n",
      "Iteration No: 13 started. Evaluating function at random point.\n",
      "[0.0014697585967435188, 40, 9, 0.9149259627034465, 0.36903710098874454] \n",
      "\n",
      "Iteration No: 13 ended. Evaluation done at random point.\n",
      "Time taken: 13.8940\n",
      "Function value obtained: 0.2389\n",
      "Current minimum: 0.2389\n",
      "Iteration No: 14 started. Evaluating function at random point.\n",
      "[0.014749532034944692, 89, 26, 0.633241401906253, 0.9608820910034701] \n",
      "\n",
      "Iteration No: 14 ended. Evaluation done at random point.\n",
      "Time taken: 16.7430\n",
      "Function value obtained: 0.2389\n",
      "Current minimum: 0.2389\n",
      "Iteration No: 15 started. Evaluating function at random point.\n",
      "[0.0033262735259356143, 34, 89, 0.5567760660749166, 0.9549443246793757] \n",
      "\n",
      "Iteration No: 15 ended. Evaluation done at random point.\n",
      "Time taken: 11.3510\n",
      "Function value obtained: 0.2389\n",
      "Current minimum: 0.2389\n",
      "Iteration No: 16 started. Evaluating function at random point.\n",
      "[0.009685436253688836, 2, 78, 0.09307844214592059, 0.225969507272543] \n",
      "\n",
      "Iteration No: 16 ended. Evaluation done at random point.\n",
      "Time taken: 3.8510\n",
      "Function value obtained: 0.2389\n",
      "Current minimum: 0.2389\n",
      "Iteration No: 17 started. Evaluating function at random point.\n",
      "[0.03844210597293627, 93, 22, 0.8889692020284521, 0.5867093706408683] \n",
      "\n",
      "Iteration No: 17 ended. Evaluation done at random point.\n",
      "Time taken: 19.6900\n",
      "Function value obtained: 0.2389\n",
      "Current minimum: 0.2389\n",
      "Iteration No: 18 started. Evaluating function at random point.\n",
      "[0.00786973960931508, 45, 21, 0.40870512409353993, 0.5845822248519866] \n",
      "\n",
      "Iteration No: 18 ended. Evaluation done at random point.\n",
      "Time taken: 14.4760\n",
      "Function value obtained: 0.2389\n",
      "Current minimum: 0.2389\n",
      "Iteration No: 19 started. Evaluating function at random point.\n",
      "[0.020164978538544195, 59, 83, 0.6559446598566927, 0.2136833965403995] \n",
      "\n",
      "Iteration No: 19 ended. Evaluation done at random point.\n",
      "Time taken: 17.5030\n",
      "Function value obtained: 0.2389\n",
      "Current minimum: 0.2389\n",
      "Iteration No: 20 started. Evaluating function at random point.\n",
      "[0.024010940718920456, 9, 25, 0.3814534248789504, 0.3429351025885235] \n",
      "\n",
      "Iteration No: 20 ended. Evaluation done at random point.\n",
      "Time taken: 8.8720\n",
      "Function value obtained: 0.2389\n",
      "Current minimum: 0.2389\n",
      "Iteration No: 21 started. Evaluating function at random point.\n",
      "[0.061911658253265375, 96, 61, 0.9665980447909663, 0.6970973480366033] \n",
      "\n",
      "Iteration No: 21 ended. Evaluation done at random point.\n",
      "Time taken: 18.8210\n",
      "Function value obtained: 0.2389\n",
      "Current minimum: 0.2389\n",
      "Iteration No: 22 started. Evaluating function at random point.\n",
      "[0.01751424579956557, 110, 93, 0.9520147957717178, 0.5049209201319466] \n",
      "\n",
      "Iteration No: 22 ended. Evaluation done at random point.\n",
      "Time taken: 25.9210\n",
      "Function value obtained: 0.2389\n",
      "Current minimum: 0.2389\n",
      "Iteration No: 23 started. Evaluating function at random point.\n",
      "[0.014347598955915168, 84, 87, 0.27517563123087635, 0.9130415685060285] \n",
      "\n",
      "Iteration No: 23 ended. Evaluation done at random point.\n",
      "Time taken: 27.3910\n",
      "Function value obtained: 0.2389\n",
      "Current minimum: 0.2389\n",
      "Iteration No: 24 started. Evaluating function at random point.\n",
      "[0.014039737029591284, 17, 6, 0.6362876679396877, 0.3939804115948866] \n",
      "\n",
      "Iteration No: 24 ended. Evaluation done at random point.\n",
      "Time taken: 11.9530\n",
      "Function value obtained: 0.2389\n",
      "Current minimum: 0.2389\n",
      "Iteration No: 25 started. Evaluating function at random point.\n",
      "[0.011327034010293172, 103, 14, 0.3894062720023748, 0.9176816358278194] \n",
      "\n",
      "Iteration No: 25 ended. Evaluation done at random point.\n",
      "Time taken: 22.0960\n",
      "Function value obtained: 0.2389\n",
      "Current minimum: 0.2389\n",
      "Iteration No: 26 started. Evaluating function at random point.\n",
      "[0.017649005221070314, 98, 56, 0.9329653720565734, 0.7218072257652316] \n",
      "\n",
      "Iteration No: 26 ended. Evaluation done at random point.\n",
      "Time taken: 19.7750\n",
      "Function value obtained: 0.2389\n",
      "Current minimum: 0.2389\n",
      "Iteration No: 27 started. Evaluating function at random point.\n",
      "[0.09877469581360704, 123, 84, 0.18027896214743389, 0.9393359167334473] \n",
      "\n",
      "Iteration No: 27 ended. Evaluation done at random point.\n",
      "Time taken: 36.5807\n",
      "Function value obtained: 0.2389\n",
      "Current minimum: 0.2389\n",
      "Iteration No: 28 started. Evaluating function at random point.\n",
      "[0.024753483395116363, 45, 7, 0.7676898999723432, 0.7784885696151218] \n",
      "\n",
      "Iteration No: 28 ended. Evaluation done at random point.\n",
      "Time taken: 11.1280\n",
      "Function value obtained: 0.2389\n",
      "Current minimum: 0.2389\n",
      "Iteration No: 29 started. Evaluating function at random point.\n",
      "[0.07015345605895347, 11, 67, 0.16805741387355647, 0.11789212045581604] \n",
      "\n",
      "Iteration No: 29 ended. Evaluation done at random point.\n",
      "Time taken: 8.5400\n",
      "Function value obtained: 0.2389\n",
      "Current minimum: 0.2389\n",
      "Iteration No: 30 started. Evaluating function at random point.\n",
      "[0.0011282932078263237, 23, 41, 0.28390051422289364, 0.8740251538145993] \n",
      "\n",
      "Iteration No: 30 ended. Evaluation done at random point.\n",
      "Time taken: 11.2980\n",
      "Function value obtained: 0.2389\n",
      "Current minimum: 0.2389\n"
     ]
    }
   ],
   "source": [
    "def treinar_modelo(params):\n",
    "    learning_rate = params[0]\n",
    "    num_leaves = params[1]\n",
    "    min_child_samples = params[2]\n",
    "    subsample = params[3]\n",
    "    colsample_bytree = params[4]\n",
    "    \n",
    "    print(params, '\\n')\n",
    "    \n",
    "    mdl = lgb.LGBMRegressor(learning_rate=learning_rate, num_leaves=num_leaves, min_child_samples=min_child_samples,\n",
    "                            subsample=subsample, colsample_bytree=colsample_bytree, random_state=0, subsample_freq=1, \n",
    "                            n_estimators=3000)\n",
    "    mdl.fit(train_x, train_y)\n",
    "    \n",
    "    y_pred = reg.predict(valid_x)\n",
    "    \n",
    "    return np.sqrt(mean_squared_error(valid_y, y_pred))\n",
    "\n",
    "space = [(1e-3, 1e-1, 'log-uniform'), #learning rate\n",
    "         (2, 128), # num_leaves\n",
    "         (1, 100), # min_child_samples\n",
    "         (0.05, 1.0), # subsample\n",
    "         (0.1, 1.0)] # colsample bytree\n",
    "\n",
    "resultado = dummy_minimize(treinar_modelo, space, random_state=1, verbose=1, n_calls=30)"
   ]
  },
  {
   "cell_type": "code",
   "execution_count": 49,
   "id": "fd72b07a-ade5-465c-bbdc-7480d7abda3b",
   "metadata": {
    "tags": []
   },
   "outputs": [
    {
     "data": {
      "text/plain": [
       "[0.09871192514273254, 74, 10, 0.3372159440002478, 0.23208030173540176]"
      ]
     },
     "execution_count": 49,
     "metadata": {},
     "output_type": "execute_result"
    }
   ],
   "source": [
    "resultado.x"
   ]
  },
  {
   "cell_type": "code",
   "execution_count": 53,
   "id": "a6627d58-1495-48ad-8199-7183cf1e37b8",
   "metadata": {
    "tags": []
   },
   "outputs": [
    {
     "name": "stdout",
     "output_type": "stream",
     "text": [
      "fold 0\n",
      "fold 1\n",
      "fold 2\n",
      "fold 3\n",
      "fold 4\n",
      "0.2012509474188227\n",
      "0.2336032941987102\n"
     ]
    }
   ],
   "source": [
    "num_folds = 5\n",
    "folds = KFold(n_splits= num_folds, shuffle=True, random_state=47)\n",
    "\n",
    "fold = 0\n",
    "accs_tr, accs_val = [], []\n",
    "\n",
    "for train_idx, valid_idx in folds.split(X, y):\n",
    "    train_x = X.iloc[train_idx]\n",
    "    train_y = y.iloc[train_idx]\n",
    "    \n",
    "    valid_x = X.iloc[valid_idx]\n",
    "    valid_y = y.iloc[valid_idx]\n",
    "    \n",
    "    # Fit Model on Train\n",
    "    \n",
    "    reg = lgb.LGBMRegressor(n_estimators=3000, learning_rate=0.098, num_leaves=74, min_child_samples=10, subsample=0.33, colsample_bytree=0.23)\n",
    "    reg.fit(train_x, train_y, eval_set=[(valid_x, valid_y)], eval_metric=\"rmse\", early_stopping_rounds = 3000, verbose = 0)\n",
    "    \n",
    "    \n",
    "    # Train Acc    \n",
    "    y_pred_tr = reg.predict(train_x)\n",
    "    result = np.sqrt(mean_squared_error(train_y, y_pred_tr))\n",
    "    accs_tr.append(result)\n",
    "    \n",
    "    # Valid Acc\n",
    "    y_pred_val = reg.predict(valid_x)\n",
    "    result_val = np.sqrt(mean_squared_error(valid_y, y_pred_val))\n",
    "    accs_val.append(result_val)\n",
    "\n",
    "    \n",
    "    print(f'fold {fold}')\n",
    "    fold += 1\n",
    "\n",
    "print(np.mean(accs_tr))\n",
    "print(np.mean(accs_val))"
   ]
  },
  {
   "cell_type": "markdown",
   "id": "673a79fe-78a8-4291-bb69-3b2969ed0d40",
   "metadata": {},
   "source": [
    "### 4.4 Feature Importance (Plot)"
   ]
  },
  {
   "cell_type": "code",
   "execution_count": 58,
   "id": "672158ad-66de-42c2-8308-3e06eb403652",
   "metadata": {
    "tags": []
   },
   "outputs": [
    {
     "data": {
      "image/png": "[encoded data removed]",
      "text/plain": [
       "<Figure size 800x800 with 1 Axes>"
      ]
     },
     "metadata": {},
     "output_type": "display_data"
    }
   ],
   "source": [
    "fig, ax = plt.subplots(figsize=(8,8))\n",
    "lgb.plot_importance(reg, max_num_features=50, height=0.8, ax=ax)\n",
    "ax.grid(False)\n",
    "plt.title(\"LightGBM - Feature Importance\", fontsize=15)\n",
    "#plt.savefig('feature_importance.png', bbox_inches='tight')\n",
    "plt.show()"
   ]
  },
  {
   "cell_type": "markdown",
   "id": "00defc2d-c655-47a2-8b34-0ca365f55a70",
   "metadata": {},
   "source": [
    "## 5. Inference and Submission"
   ]
  },
  {
   "cell_type": "markdown",
   "id": "ae947c10-4bc6-449b-acc6-e39433d9ac8b",
   "metadata": {},
   "source": [
    "### 5.1 Inference on test data"
   ]
  },
  {
   "cell_type": "code",
   "execution_count": 55,
   "id": "ed7747ac-2e27-450c-96d3-db8ed0a247bb",
   "metadata": {
    "tags": []
   },
   "outputs": [],
   "source": [
    "y_pred = reg.predict(df_test)"
   ]
  },
  {
   "cell_type": "markdown",
   "id": "744a70d4-ccc3-4929-a068-4995def97560",
   "metadata": {},
   "source": [
    "### 5.2 Submission"
   ]
  },
  {
   "cell_type": "code",
   "execution_count": 56,
   "id": "2dd0e6ff-b0a8-4fcd-a0a8-3fd98bd34b5b",
   "metadata": {
    "tags": []
   },
   "outputs": [],
   "source": [
    "sub_df = pd.DataFrame({\"fullVisitorId\":id_test})\n",
    "y_pred[y_pred<0] = 0\n",
    "sub_df[\"PredictedLogRevenue\"] = np.expm1(y_pred)\n",
    "sub_df = sub_df.groupby(\"fullVisitorId\")[\"PredictedLogRevenue\"].sum().reset_index()\n",
    "sub_df.columns = [\"fullVisitorId\", \"PredictedLogRevenue\"]\n",
    "sub_df[\"PredictedLogRevenue\"] = np.log1p(sub_df[\"PredictedLogRevenue\"])\n",
    "sub_df.to_csv(\"submission.csv\", index=False)"
   ]
  },
  {
   "cell_type": "markdown",
   "id": "f66327f4-a24d-49c3-ae87-b274b06ea4f7",
   "metadata": {},
   "source": [
    "## 6. References"
   ]
  },
  {
   "cell_type": "markdown",
   "id": "ff91d758-c79e-4502-943b-c429a884d8d8",
   "metadata": {},
   "source": [
    "[1] https://www.kaggle.com/code/kostoglot/winning-solution <br>\n",
    "[2] https://www.kaggle.com/code/oceands/basics-of-google-analytics <br>\n",
    "[3] https://www.youtube.com/watch?v=WhnkeasZNHI"
   ]
  }
 ],
 "metadata": {
  "kernelspec": {
   "display_name": "Python 3 (ipykernel)",
   "language": "python",
   "name": "python3"
  },
  "language_info": {
   "codemirror_mode": {
    "name": "ipython",
    "version": 3
   },
   "file_extension": ".py",
   "mimetype": "text/x-python",
   "name": "python",
   "nbconvert_exporter": "python",
   "pygments_lexer": "ipython3",
   "version": "3.11.1"
  }
 },
 "nbformat": 4,
 "nbformat_minor": 5
}
